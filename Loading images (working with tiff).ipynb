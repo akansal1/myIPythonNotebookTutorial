{
 "cells": [
  {
   "cell_type": "code",
   "execution_count": 4,
   "metadata": {
    "collapsed": false
   },
   "outputs": [],
   "source": [
    "#%matplotlib inline"
   ]
  },
  {
   "cell_type": "code",
   "execution_count": 19,
   "metadata": {
    "collapsed": false
   },
   "outputs": [],
   "source": [
    "import numpy as np"
   ]
  },
  {
   "cell_type": "code",
   "execution_count": 3,
   "metadata": {
    "collapsed": false
   },
   "outputs": [],
   "source": [
    "import matplotlib.pyplot as plt\n",
    "import matplotlib.image as mpimg"
   ]
  },
  {
   "cell_type": "code",
   "execution_count": 4,
   "metadata": {
    "collapsed": false
   },
   "outputs": [],
   "source": [
    "image1 = '../Sample1/CT0069.tif'"
   ]
  },
  {
   "cell_type": "code",
   "execution_count": 11,
   "metadata": {
    "collapsed": false
   },
   "outputs": [],
   "source": [
    "import os\n",
    "from PIL import Image"
   ]
  },
  {
   "cell_type": "code",
   "execution_count": 14,
   "metadata": {
    "collapsed": false
   },
   "outputs": [],
   "source": [
    "im = Image.open(image1)"
   ]
  },
  {
   "cell_type": "code",
   "execution_count": 15,
   "metadata": {
    "collapsed": true
   },
   "outputs": [],
   "source": [
    "im.show()"
   ]
  },
  {
   "cell_type": "code",
   "execution_count": 17,
   "metadata": {
    "collapsed": false
   },
   "outputs": [
    {
     "name": "stdout",
     "output_type": "stream",
     "text": [
      "<PIL.TiffImagePlugin.TiffImageFile image mode=I;16 size=292x292 at 0x10A53D278>\n"
     ]
    }
   ],
   "source": [
    "print(im)"
   ]
  },
  {
   "cell_type": "code",
   "execution_count": 20,
   "metadata": {
    "collapsed": false
   },
   "outputs": [],
   "source": [
    "imarray = np.array(im)"
   ]
  },
  {
   "cell_type": "code",
   "execution_count": 21,
   "metadata": {
    "collapsed": false
   },
   "outputs": [
    {
     "name": "stdout",
     "output_type": "stream",
     "text": [
      "[[8141 8141 8141 ..., 8141 8141 8141]\n",
      " [8141 8141 8141 ..., 8141 8141 8141]\n",
      " [8141 8141 8141 ..., 8141 8141 8141]\n",
      " ..., \n",
      " [8141 8141 8141 ..., 8141 8141 8141]\n",
      " [8141 8141 8141 ..., 8141 8141 8141]\n",
      " [8141 8141 8141 ..., 8141 8141 8141]]\n"
     ]
    }
   ],
   "source": [
    "print(imarray)"
   ]
  },
  {
   "cell_type": "code",
   "execution_count": null,
   "metadata": {
    "collapsed": true
   },
   "outputs": [],
   "source": []
  },
  {
   "cell_type": "code",
   "execution_count": null,
   "metadata": {
    "collapsed": true
   },
   "outputs": [],
   "source": []
  },
  {
   "cell_type": "code",
   "execution_count": 23,
   "metadata": {
    "collapsed": false
   },
   "outputs": [
    {
     "data": {
      "text/plain": [
       "True"
      ]
     },
     "execution_count": 23,
     "metadata": {},
     "output_type": "execute_result"
    }
   ],
   "source": [
    "os.path.isfile(image1)"
   ]
  },
  {
   "cell_type": "code",
   "execution_count": null,
   "metadata": {
    "collapsed": true
   },
   "outputs": [],
   "source": []
  },
  {
   "cell_type": "code",
   "execution_count": 24,
   "metadata": {
    "collapsed": false
   },
   "outputs": [],
   "source": [
    "image = mpimg.imread(image1)"
   ]
  },
  {
   "cell_type": "code",
   "execution_count": 25,
   "metadata": {
    "collapsed": false
   },
   "outputs": [
    {
     "name": "stdout",
     "output_type": "stream",
     "text": [
      "43799\n",
      "0\n"
     ]
    }
   ],
   "source": [
    "print(image.max())\n",
    "print(image.min())"
   ]
  },
  {
   "cell_type": "code",
   "execution_count": 26,
   "metadata": {
    "collapsed": false,
    "scrolled": true
   },
   "outputs": [
    {
     "name": "stdout",
     "output_type": "stream",
     "text": [
      "[[8141 8141 8141 ..., 8141 8141 8141]\n",
      " [8141 8141 8141 ..., 8141 8141 8141]\n",
      " [8141 8141 8141 ..., 8141 8141 8141]\n",
      " ..., \n",
      " [8141 8141 8141 ..., 8141 8141 8141]\n",
      " [8141 8141 8141 ..., 8141 8141 8141]\n",
      " [8141 8141 8141 ..., 8141 8141 8141]]\n"
     ]
    }
   ],
   "source": [
    "print(image)"
   ]
  },
  {
   "cell_type": "code",
   "execution_count": 31,
   "metadata": {
    "collapsed": false
   },
   "outputs": [],
   "source": [
    "plt.imshow(image, cmap=plt.cm.gray)\n",
    "plt.colorbar()\n",
    "plt.title(\"TIFF image\")\n",
    "plt.show()"
   ]
  },
  {
   "cell_type": "code",
   "execution_count": 32,
   "metadata": {
    "collapsed": false
   },
   "outputs": [],
   "source": [
    "from skimage import exposure\n",
    "import skimage"
   ]
  },
  {
   "cell_type": "code",
   "execution_count": 33,
   "metadata": {
    "collapsed": false
   },
   "outputs": [
    {
     "data": {
      "text/plain": [
       "(0.05, 0.3)"
      ]
     },
     "execution_count": 33,
     "metadata": {},
     "output_type": "execute_result"
    }
   ],
   "source": [
    "fig, axes = plt.subplots(nrows=2, ncols=1, figsize=(8,5));\n",
    "ax_img, ax_hist = axes;\n",
    "ax_img.imshow(image, cmap=plt.cm.gray)\n",
    "# ax_img.set_axis_off();\n",
    "histo = skimage.exposure.histogram(image, nbins=256)\n",
    "ax_hist.plot(histo[1], histo[0])\n",
    "ax_hist.set_xlim(0.05, 0.3)\n"
   ]
  },
  {
   "cell_type": "code",
   "execution_count": 231,
   "metadata": {
    "collapsed": false
   },
   "outputs": [],
   "source": [
    "import math\n",
    "def gaussian(a, b, c, range_x):\n",
    "    ''' a is the height\n",
    "        b is the position of the center\n",
    "        c controls the width of the bell\n",
    "        https://en.wikipedia.org/wiki/Gaussian_function\n",
    "    '''\n",
    "    result = []\n",
    "    for value in range_x:\n",
    "        result.append(a*math.exp(-((value-b)**2)/(2*c**2)))\n",
    "    return result\n",
    "    "
   ]
  },
  {
   "cell_type": "code",
   "execution_count": 232,
   "metadata": {
    "collapsed": true
   },
   "outputs": [],
   "source": [
    "def lorentzian(a, b, c, range_x):\n",
    "    ''' a is the height\n",
    "        b is the position of the center\n",
    "        c is the width of the peak\n",
    "        http://mathworld.wolfram.com/LorentzianFunction.html\n",
    "    '''\n",
    "    result = []\n",
    "    for value in range_x:\n",
    "        _value = a*(1/np.pi)*(c/2)/((value-b)**2+(c/2)**2)\n",
    "        result.append(_value)\n",
    "    return result"
   ]
  },
  {
   "cell_type": "code",
   "execution_count": 234,
   "metadata": {
    "collapsed": false
   },
   "outputs": [
    {
     "name": "stdout",
     "output_type": "stream",
     "text": [
      "[0.9459594689067654, 1.0, 0.9459594689067654, 0.8007374029168081, 0.6065306597126334, 0.41111229050718745, 0.24935220877729622, 0.1353352832366127, 0.06572852861653047]\n"
     ]
    }
   ],
   "source": [
    "print(gaussian(1,2,3,range(1,10)))"
   ]
  },
  {
   "cell_type": "code",
   "execution_count": 235,
   "metadata": {
    "collapsed": false
   },
   "outputs": [
    {
     "name": "stderr",
     "output_type": "stream",
     "text": [
      "/Users/j35/anaconda/lib/python3.4/site-packages/matplotlib/__init__.py:1318: UserWarning:  This call to matplotlib.use() has no effect\n",
      "because the backend has already been chosen;\n",
      "matplotlib.use() must be called *before* pylab, matplotlib.pyplot,\n",
      "or matplotlib.backends is imported for the first time.\n",
      "\n",
      "  warnings.warn(_use_error_msg)\n"
     ]
    }
   ],
   "source": [
    "import matplotlib\n",
    "matplotlib.use('nbagg')"
   ]
  },
  {
   "cell_type": "code",
   "execution_count": 236,
   "metadata": {
    "collapsed": false
   },
   "outputs": [
    {
     "data": {
      "text/plain": [
       "[<matplotlib.lines.Line2D at 0x11789ac88>]"
      ]
     },
     "execution_count": 236,
     "metadata": {},
     "output_type": "execute_result"
    },
    {
     "data": {
      "image/png": "[encoded data removed]",
      "text/plain": [
       "<matplotlib.figure.Figure at 0x117894ac8>"
      ]
     },
     "metadata": {},
     "output_type": "display_data"
    }
   ],
   "source": [
    "fig = plt.figure()\n",
    "ax = fig.add_subplot(111)\n",
    "ax.plot(histo[1], histo[0])\n",
    "ax.set_xlim([0.12, 0.25])\n",
    "ax.set_ylim([0, 10000])\n",
    "\n",
    "x = np.arange(0.12, 0.24, 0.001)\n",
    "\n",
    "a = 4630; b = 0.187; c = 0.015\n",
    "ax.plot(x, gaussian(a, b, c, x),'r+')\n",
    "\n",
    "a = 245; b = 0.187; c = 0.033\n",
    "ax.plot(x, lorentzian(a, b, c, x), 'g+')"
   ]
  },
  {
   "cell_type": "code",
   "execution_count": 206,
   "metadata": {
    "collapsed": false
   },
   "outputs": [
    {
     "data": {
      "image/png": "[encoded data removed]",
      "text/plain": [
       "<matplotlib.figure.Figure at 0x1176a57b8>"
      ]
     },
     "metadata": {},
     "output_type": "display_data"
    }
   ],
   "source": [
    "fig = plt.figure()\n",
    "ax = fig.add_subplot(111)\n",
    "ax.plot(histo[1], histo[0], '*')\n",
    "ax.set_xlim([0.12, 0.25])\n",
    "#ax.set_ylim([0, 10000])\n",
    "\n",
    "x = np.arange(0.12, 0.24, 0.001)\n",
    "\n",
    "#a = 4630; b = 0.187; c = 0.015\n",
    "#ax.plot(x, gaussian(a, b, c, x),'r+')\n",
    "\n",
    "#a = 245; b = 0.187; c = 0.033\n",
    "#ax.plot(x, lorentzian(a, b, c, x), 'g+')"
   ]
  },
  {
   "cell_type": "code",
   "execution_count": 237,
   "metadata": {
    "collapsed": false
   },
   "outputs": [
    {
     "name": "stdout",
     "output_type": "stream",
     "text": [
      "y_axis max is at index: 48 and a value of: 36663\n",
      "x_axis value of max intensity is 0.189453\n"
     ]
    }
   ],
   "source": [
    "y_axis = histo[0]\n",
    "x_axis = histo[1]\n",
    "print('y_axis max is at index: %d and a value of: %d' %(y_axis.argmax(), y_axis[y_axis.argmax()]))\n",
    "print('x_axis value of max intensity is %f' %x_axis[y_axis.argmax()])"
   ]
  },
  {
   "cell_type": "code",
   "execution_count": 238,
   "metadata": {
    "collapsed": false,
    "scrolled": true
   },
   "outputs": [
    {
     "data": {
      "text/plain": [
       "array([[ 0.1882353,  0.1882353,  0.1882353, ...,  0.1882353,  0.1882353,\n",
       "         0.1882353],\n",
       "       [ 0.1882353,  0.1882353,  0.1882353, ...,  0.1882353,  0.1882353,\n",
       "         0.1882353],\n",
       "       [ 0.1882353,  0.1882353,  0.1882353, ...,  0.1882353,  0.1882353,\n",
       "         0.1882353],\n",
       "       ..., \n",
       "       [ 0.1882353,  0.1882353,  0.1882353, ...,  0.1882353,  0.1882353,\n",
       "         0.1882353],\n",
       "       [ 0.1882353,  0.1882353,  0.1882353, ...,  0.1882353,  0.1882353,\n",
       "         0.1882353],\n",
       "       [ 0.1882353,  0.1882353,  0.1882353, ...,  0.1882353,  0.1882353,\n",
       "         0.1882353]], dtype=float32)"
      ]
     },
     "execution_count": 238,
     "metadata": {},
     "output_type": "execute_result"
    }
   ],
   "source": [
    "image"
   ]
  },
  {
   "cell_type": "code",
   "execution_count": 245,
   "metadata": {
    "collapsed": false
   },
   "outputs": [
    {
     "ename": "ImportError",
     "evalue": "dlopen(/Users/j35/anaconda/lib/python3.4/site-packages/PIL/_imaging.so, 2): Library not loaded: libjpeg.8.dylib\n  Referenced from: /Users/j35/anaconda/lib/python3.4/site-packages/PIL/_imaging.so\n  Reason: image not found",
     "output_type": "error",
     "traceback": [
      "\u001b[0;31m---------------------------------------------------------------------------\u001b[0m",
      "\u001b[0;31mImportError\u001b[0m                               Traceback (most recent call last)",
      "\u001b[0;32m<ipython-input-245-0f6709e38f49>\u001b[0m in \u001b[0;36m<module>\u001b[0;34m()\u001b[0m\n\u001b[0;32m----> 1\u001b[0;31m \u001b[0;32mfrom\u001b[0m \u001b[0mPIL\u001b[0m \u001b[0;32mimport\u001b[0m \u001b[0mImage\u001b[0m\u001b[0;34m\u001b[0m\u001b[0m\n\u001b[0m",
      "\u001b[0;32m/Users/j35/anaconda/lib/python3.4/site-packages/PIL/Image.py\u001b[0m in \u001b[0;36m<module>\u001b[0;34m()\u001b[0m\n\u001b[1;32m     61\u001b[0m     \u001b[0;31m# Also note that Image.core is not a publicly documented interface,\u001b[0m\u001b[0;34m\u001b[0m\u001b[0;34m\u001b[0m\u001b[0m\n\u001b[1;32m     62\u001b[0m     \u001b[0;31m# and should be considered private and subject to change.\u001b[0m\u001b[0;34m\u001b[0m\u001b[0;34m\u001b[0m\u001b[0m\n\u001b[0;32m---> 63\u001b[0;31m     \u001b[0;32mfrom\u001b[0m \u001b[0mPIL\u001b[0m \u001b[0;32mimport\u001b[0m \u001b[0m_imaging\u001b[0m \u001b[0;32mas\u001b[0m \u001b[0mcore\u001b[0m\u001b[0;34m\u001b[0m\u001b[0m\n\u001b[0m\u001b[1;32m     64\u001b[0m     \u001b[0;32mif\u001b[0m \u001b[0mPILLOW_VERSION\u001b[0m \u001b[0;34m!=\u001b[0m \u001b[0mgetattr\u001b[0m\u001b[0;34m(\u001b[0m\u001b[0mcore\u001b[0m\u001b[0;34m,\u001b[0m \u001b[0;34m'PILLOW_VERSION'\u001b[0m\u001b[0;34m,\u001b[0m \u001b[0;32mNone\u001b[0m\u001b[0;34m)\u001b[0m\u001b[0;34m:\u001b[0m\u001b[0;34m\u001b[0m\u001b[0m\n\u001b[1;32m     65\u001b[0m         raise ImportError(\"The _imaging extension was built for another \"\n",
      "\u001b[0;31mImportError\u001b[0m: dlopen(/Users/j35/anaconda/lib/python3.4/site-packages/PIL/_imaging.so, 2): Library not loaded: libjpeg.8.dylib\n  Referenced from: /Users/j35/anaconda/lib/python3.4/site-packages/PIL/_imaging.so\n  Reason: image not found"
     ]
    }
   ],
   "source": [
    "from PIL import Image"
   ]
  },
  {
   "cell_type": "code",
   "execution_count": 242,
   "metadata": {
    "collapsed": false
   },
   "outputs": [
    {
     "ename": "ImportError",
     "evalue": "dlopen(/Users/j35/anaconda/lib/python3.4/site-packages/PIL/_imaging.so, 2): Library not loaded: libjpeg.8.dylib\n  Referenced from: /Users/j35/anaconda/lib/python3.4/site-packages/PIL/_imaging.so\n  Reason: image not found",
     "output_type": "error",
     "traceback": [
      "\u001b[0;31m---------------------------------------------------------------------------\u001b[0m",
      "\u001b[0;31mImportError\u001b[0m                               Traceback (most recent call last)",
      "\u001b[0;32m<ipython-input-242-0f6709e38f49>\u001b[0m in \u001b[0;36m<module>\u001b[0;34m()\u001b[0m\n\u001b[0;32m----> 1\u001b[0;31m \u001b[0;32mfrom\u001b[0m \u001b[0mPIL\u001b[0m \u001b[0;32mimport\u001b[0m \u001b[0mImage\u001b[0m\u001b[0;34m\u001b[0m\u001b[0m\n\u001b[0m",
      "\u001b[0;32m/Users/j35/anaconda/lib/python3.4/site-packages/PIL/Image.py\u001b[0m in \u001b[0;36m<module>\u001b[0;34m()\u001b[0m\n\u001b[1;32m     61\u001b[0m     \u001b[0;31m# Also note that Image.core is not a publicly documented interface,\u001b[0m\u001b[0;34m\u001b[0m\u001b[0;34m\u001b[0m\u001b[0m\n\u001b[1;32m     62\u001b[0m     \u001b[0;31m# and should be considered private and subject to change.\u001b[0m\u001b[0;34m\u001b[0m\u001b[0;34m\u001b[0m\u001b[0m\n\u001b[0;32m---> 63\u001b[0;31m     \u001b[0;32mfrom\u001b[0m \u001b[0mPIL\u001b[0m \u001b[0;32mimport\u001b[0m \u001b[0m_imaging\u001b[0m \u001b[0;32mas\u001b[0m \u001b[0mcore\u001b[0m\u001b[0;34m\u001b[0m\u001b[0m\n\u001b[0m\u001b[1;32m     64\u001b[0m     \u001b[0;32mif\u001b[0m \u001b[0mPILLOW_VERSION\u001b[0m \u001b[0;34m!=\u001b[0m \u001b[0mgetattr\u001b[0m\u001b[0;34m(\u001b[0m\u001b[0mcore\u001b[0m\u001b[0;34m,\u001b[0m \u001b[0;34m'PILLOW_VERSION'\u001b[0m\u001b[0;34m,\u001b[0m \u001b[0;32mNone\u001b[0m\u001b[0;34m)\u001b[0m\u001b[0;34m:\u001b[0m\u001b[0;34m\u001b[0m\u001b[0m\n\u001b[1;32m     65\u001b[0m         raise ImportError(\"The _imaging extension was built for another \"\n",
      "\u001b[0;31mImportError\u001b[0m: dlopen(/Users/j35/anaconda/lib/python3.4/site-packages/PIL/_imaging.so, 2): Library not loaded: libjpeg.8.dylib\n  Referenced from: /Users/j35/anaconda/lib/python3.4/site-packages/PIL/_imaging.so\n  Reason: image not found"
     ]
    }
   ],
   "source": []
  },
  {
   "cell_type": "code",
   "execution_count": null,
   "metadata": {
    "collapsed": true
   },
   "outputs": [],
   "source": []
  }
 ],
 "metadata": {
  "kernelspec": {
   "display_name": "Python 3",
   "language": "python",
   "name": "python3"
  },
  "language_info": {
   "codemirror_mode": {
    "name": "ipython",
    "version": 3
   },
   "file_extension": ".py",
   "mimetype": "text/x-python",
   "name": "python",
   "nbconvert_exporter": "python",
   "pygments_lexer": "ipython3",
   "version": "3.4.3"
  }
 },
 "nbformat": 4,
 "nbformat_minor": 0
}
