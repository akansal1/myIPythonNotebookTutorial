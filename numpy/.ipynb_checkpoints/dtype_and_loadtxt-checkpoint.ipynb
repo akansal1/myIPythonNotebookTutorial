{
 "cells": [
  {
   "cell_type": "markdown",
   "metadata": {},
   "source": [
    "# Playing with dtype"
   ]
  },
  {
   "cell_type": "code",
   "execution_count": 3,
   "metadata": {
    "collapsed": true
   },
   "outputs": [],
   "source": [
    "import numpy as np"
   ]
  },
  {
   "cell_type": "code",
   "execution_count": null,
   "metadata": {
    "collapsed": false
   },
   "outputs": [],
   "source": [
    "particle_type = np.dtype([('mass', 'f4'), ('velocity', 'f4'), ('other', 'object')])"
   ]
  },
  {
   "cell_type": "code",
   "execution_count": null,
   "metadata": {
    "collapsed": false
   },
   "outputs": [],
   "source": [
    "particles = np.array([(1, 2, None), (1, 2, None), (3, 4, None)], dtype=particle_type)"
   ]
  },
  {
   "cell_type": "code",
   "execution_count": null,
   "metadata": {
    "collapsed": false
   },
   "outputs": [],
   "source": [
    "print(particles)"
   ]
  },
  {
   "cell_type": "code",
   "execution_count": null,
   "metadata": {
    "collapsed": false
   },
   "outputs": [],
   "source": [
    "particles[0]"
   ]
  },
  {
   "cell_type": "code",
   "execution_count": null,
   "metadata": {
    "collapsed": false
   },
   "outputs": [],
   "source": [
    "print(particles['velocity'])"
   ]
  },
  {
   "cell_type": "code",
   "execution_count": null,
   "metadata": {
    "collapsed": false
   },
   "outputs": [],
   "source": [
    "particles.sort(order=('velocity'))"
   ]
  },
  {
   "cell_type": "markdown",
   "metadata": {},
   "source": [
    "# Complex data type"
   ]
  },
  {
   "cell_type": "code",
   "execution_count": 20,
   "metadata": {
    "collapsed": false
   },
   "outputs": [],
   "source": [
    "dt_complex = np.dtype([('time', float), \n",
    "                       ('size', float),\n",
    "                      ('position', [('az', float),\n",
    "                                   ('el', float),\n",
    "                                   ('region_type', int),\n",
    "                                   ('region_ID', int)]),\n",
    "                      ('gain', int),\n",
    "                      ('samples', float, 3)])"
   ]
  },
  {
   "cell_type": "code",
   "execution_count": 21,
   "metadata": {
    "collapsed": true
   },
   "outputs": [],
   "source": [
    "filename = 'nested_dtype.txt'"
   ]
  },
  {
   "cell_type": "code",
   "execution_count": 22,
   "metadata": {
    "collapsed": false
   },
   "outputs": [
    {
     "ename": "IndexError",
     "evalue": "list index out of range",
     "output_type": "error",
     "traceback": [
      "\u001b[0;31m---------------------------------------------------------------------------\u001b[0m",
      "\u001b[0;31mIndexError\u001b[0m                                Traceback (most recent call last)",
      "\u001b[0;32m<ipython-input-22-5032fd660d6f>\u001b[0m in \u001b[0;36m<module>\u001b[0;34m()\u001b[0m\n\u001b[0;32m----> 1\u001b[0;31m \u001b[0mdata\u001b[0m \u001b[0;34m=\u001b[0m \u001b[0mnp\u001b[0m\u001b[0;34m.\u001b[0m\u001b[0mloadtxt\u001b[0m\u001b[0;34m(\u001b[0m\u001b[0mfilename\u001b[0m\u001b[0;34m,\u001b[0m \u001b[0mdtype\u001b[0m\u001b[0;34m=\u001b[0m\u001b[0mdt_complex\u001b[0m\u001b[0;34m)\u001b[0m\u001b[0;34m\u001b[0m\u001b[0m\n\u001b[0m",
      "\u001b[0;32m/Users/j35/anaconda/lib/python3.4/site-packages/numpy/lib/npyio.py\u001b[0m in \u001b[0;36mloadtxt\u001b[0;34m(fname, dtype, comments, delimiter, converters, skiprows, usecols, unpack, ndmin)\u001b[0m\n\u001b[1;32m    813\u001b[0m             \u001b[0mitems\u001b[0m \u001b[0;34m=\u001b[0m \u001b[0;34m[\u001b[0m\u001b[0mconv\u001b[0m\u001b[0;34m(\u001b[0m\u001b[0mval\u001b[0m\u001b[0;34m)\u001b[0m \u001b[0;32mfor\u001b[0m \u001b[0;34m(\u001b[0m\u001b[0mconv\u001b[0m\u001b[0;34m,\u001b[0m \u001b[0mval\u001b[0m\u001b[0;34m)\u001b[0m \u001b[0;32min\u001b[0m \u001b[0mzip\u001b[0m\u001b[0;34m(\u001b[0m\u001b[0mconverters\u001b[0m\u001b[0;34m,\u001b[0m \u001b[0mvals\u001b[0m\u001b[0;34m)\u001b[0m\u001b[0;34m]\u001b[0m\u001b[0;34m\u001b[0m\u001b[0m\n\u001b[1;32m    814\u001b[0m             \u001b[0;31m# Then pack it according to the dtype's nesting\u001b[0m\u001b[0;34m\u001b[0m\u001b[0;34m\u001b[0m\u001b[0m\n\u001b[0;32m--> 815\u001b[0;31m             \u001b[0mitems\u001b[0m \u001b[0;34m=\u001b[0m \u001b[0mpack_items\u001b[0m\u001b[0;34m(\u001b[0m\u001b[0mitems\u001b[0m\u001b[0;34m,\u001b[0m \u001b[0mpacking\u001b[0m\u001b[0;34m)\u001b[0m\u001b[0;34m\u001b[0m\u001b[0m\n\u001b[0m\u001b[1;32m    816\u001b[0m             \u001b[0mX\u001b[0m\u001b[0;34m.\u001b[0m\u001b[0mappend\u001b[0m\u001b[0;34m(\u001b[0m\u001b[0mitems\u001b[0m\u001b[0;34m)\u001b[0m\u001b[0;34m\u001b[0m\u001b[0m\n\u001b[1;32m    817\u001b[0m     \u001b[0;32mfinally\u001b[0m\u001b[0;34m:\u001b[0m\u001b[0;34m\u001b[0m\u001b[0m\n",
      "\u001b[0;32m/Users/j35/anaconda/lib/python3.4/site-packages/numpy/lib/npyio.py\u001b[0m in \u001b[0;36mpack_items\u001b[0;34m(items, packing)\u001b[0m\n\u001b[1;32m    739\u001b[0m             \u001b[0mret\u001b[0m \u001b[0;34m=\u001b[0m \u001b[0;34m[\u001b[0m\u001b[0;34m]\u001b[0m\u001b[0;34m\u001b[0m\u001b[0m\n\u001b[1;32m    740\u001b[0m             \u001b[0;32mfor\u001b[0m \u001b[0mlength\u001b[0m\u001b[0;34m,\u001b[0m \u001b[0msubpacking\u001b[0m \u001b[0;32min\u001b[0m \u001b[0mpacking\u001b[0m\u001b[0;34m:\u001b[0m\u001b[0;34m\u001b[0m\u001b[0m\n\u001b[0;32m--> 741\u001b[0;31m                 \u001b[0mret\u001b[0m\u001b[0;34m.\u001b[0m\u001b[0mappend\u001b[0m\u001b[0;34m(\u001b[0m\u001b[0mpack_items\u001b[0m\u001b[0;34m(\u001b[0m\u001b[0mitems\u001b[0m\u001b[0;34m[\u001b[0m\u001b[0mstart\u001b[0m\u001b[0;34m:\u001b[0m\u001b[0mstart\u001b[0m\u001b[0;34m+\u001b[0m\u001b[0mlength\u001b[0m\u001b[0;34m]\u001b[0m\u001b[0;34m,\u001b[0m \u001b[0msubpacking\u001b[0m\u001b[0;34m)\u001b[0m\u001b[0;34m)\u001b[0m\u001b[0;34m\u001b[0m\u001b[0m\n\u001b[0m\u001b[1;32m    742\u001b[0m                 \u001b[0mstart\u001b[0m \u001b[0;34m+=\u001b[0m \u001b[0mlength\u001b[0m\u001b[0;34m\u001b[0m\u001b[0m\n\u001b[1;32m    743\u001b[0m             \u001b[0;32mreturn\u001b[0m \u001b[0mtuple\u001b[0m\u001b[0;34m(\u001b[0m\u001b[0mret\u001b[0m\u001b[0;34m)\u001b[0m\u001b[0;34m\u001b[0m\u001b[0m\n",
      "\u001b[0;32m/Users/j35/anaconda/lib/python3.4/site-packages/numpy/lib/npyio.py\u001b[0m in \u001b[0;36mpack_items\u001b[0;34m(items, packing)\u001b[0m\n\u001b[1;32m    730\u001b[0m         \u001b[0;34m\"\"\"Pack items into nested lists based on re-packing info.\"\"\"\u001b[0m\u001b[0;34m\u001b[0m\u001b[0m\n\u001b[1;32m    731\u001b[0m         \u001b[0;32mif\u001b[0m \u001b[0mpacking\u001b[0m \u001b[0;32mis\u001b[0m \u001b[0;32mNone\u001b[0m\u001b[0;34m:\u001b[0m\u001b[0;34m\u001b[0m\u001b[0m\n\u001b[0;32m--> 732\u001b[0;31m             \u001b[0;32mreturn\u001b[0m \u001b[0mitems\u001b[0m\u001b[0;34m[\u001b[0m\u001b[0;36m0\u001b[0m\u001b[0;34m]\u001b[0m\u001b[0;34m\u001b[0m\u001b[0m\n\u001b[0m\u001b[1;32m    733\u001b[0m         \u001b[0;32melif\u001b[0m \u001b[0mpacking\u001b[0m \u001b[0;32mis\u001b[0m \u001b[0mtuple\u001b[0m\u001b[0;34m:\u001b[0m\u001b[0;34m\u001b[0m\u001b[0m\n\u001b[1;32m    734\u001b[0m             \u001b[0;32mreturn\u001b[0m \u001b[0mtuple\u001b[0m\u001b[0;34m(\u001b[0m\u001b[0mitems\u001b[0m\u001b[0;34m)\u001b[0m\u001b[0;34m\u001b[0m\u001b[0m\n",
      "\u001b[0;31mIndexError\u001b[0m: list index out of range"
     ]
    }
   ],
   "source": [
    "data = np.loadtxt(filename, dtype=dt_complex)"
   ]
  },
  {
   "cell_type": "code",
   "execution_count": 7,
   "metadata": {
    "collapsed": false
   },
   "outputs": [
    {
     "name": "stdout",
     "output_type": "stream",
     "text": [
      "[ (4.6195839586573965e+281, 9.765195575392243e+199, (1.6192781635571406e+161, 2.2120873797616814e+214, 651096920825033573, 7810659549962635533), 6876556179538276873, [1.1943801141254724e+190, 3.9179881561977345e-265, 9.730415946602082e-72])\n",
      " (3.2244404485113346e-86, 1.7822786934989639e-72, (3.224440484467129e-86, 5.158189729151406e-62, 4121974780120271159, 3328170265987854388), 3834873589576120116, [9.730415951348216e-72, 2.9069640107268427e-33, 2.113338515964875e-264])\n",
      " (8.542799431830426e-72, 2.5814336284282823e-57, (2.1769931606609542e-76, 4.4356750915106924e-38, 3534541979976677428, 3533411669020586289), 3471440994605533488, [5.018889750859836e-58, 4.908441388101339e-62, 3.224461915683556e-86])\n",
      " (1.691761970309831e-52, 1.6913604800051385e-52, (9.650885543272354e-72, 1.4712535848797973e-76, 3328209642163417353, 3473411331706652977), 3834872472984760329, [3.5014216185183256e-33, 2.2562910371834272e-264, 7.27312372621401e-43])\n",
      " (9.730414737169093e-72, 1.7820054103444708e-72, (2.131266007053573e-264, 2.7191294080942277e-77, 3472609771339004206, 4123388704859961138), 3461351910403552304, [5.932816075768538e-38, 9.730415946622758e-72, 3.425516916850844e-86])\n",
      " (1.7822786934989639e-72, 3.224440484467129e-86, (1.0856944361635695e-42, 3.857151712794036e-57, 3328170244479203383, 3833462929126142770), 3544668469065747767, [2.9073401689191075e-33, 2.113338515964875e-264, 5.598609035644388e-67])\n",
      " (4.664503254091336e-33, 1.6601697976998625e-76, (4.4356751353350804e-38, 3.505944872432133e-33, 4049071627331252493, 662361412637569289), 3749582080312225837, [1.2553673100349571e-71, 2.135142663304367e-264, 1.7239835530165118e-47])\n",
      " (4.271793596497958e-33, 4.84951947663875e-245, (3.1251377685242214e-264, 9.664748472716458e-92, 663165151342571056, 3834871356173398068), 3461356304188127032, [1.1760678559664045e-47, 4.854833362623848e-33, 2.0652794684912293e-72])\n",
      " (1.7820066584748186e-72, 1.2537975569200832e-76, (5.018889750859836e-58, 1.4500335103208087e-47, 3328170261574989621, 3617291216510072115), 3689631384851188023, [9.650868237597087e-72, 1.4712496367031262e-76, 3.252597241361156e-86])\n",
      " (1.7303384356271853e-76, 9.513422222966114e-43, (2.9069640280847285e-33, 4.0146037609586793e-57, 3545795464256172041, 3544668314480425270), 662083060790079793, [8.542954225370231e-72, 2.010047692491744e-264, 7.49984090149691e-67])\n",
      " (9.513380978344135e-43, 2.7229232610681506e-77, (7.496965811393625e-67, 9.730415946623788e-72, 3329014652142695218, 3533409457095379249), 3328170227262895113, [1.3137235950522913e-47, 2.899434523261895e-57, 3.2244619518259194e-86])]\n"
     ]
    }
   ],
   "source": [
    "print(data)"
   ]
  },
  {
   "cell_type": "code",
   "execution_count": null,
   "metadata": {
    "collapsed": false
   },
   "outputs": [],
   "source": [
    "print(data['time'])"
   ]
  },
  {
   "cell_type": "code",
   "execution_count": null,
   "metadata": {
    "collapsed": true
   },
   "outputs": [],
   "source": [
    "np.fromfile?"
   ]
  },
  {
   "cell_type": "code",
   "execution_count": null,
   "metadata": {
    "collapsed": true
   },
   "outputs": [],
   "source": [
    "data_txt = np.fromfile(filename)"
   ]
  },
  {
   "cell_type": "code",
   "execution_count": null,
   "metadata": {
    "collapsed": false
   },
   "outputs": [],
   "source": [
    "print(data_txt)"
   ]
  },
  {
   "cell_type": "markdown",
   "metadata": {},
   "source": [
    "# Simple data type"
   ]
  },
  {
   "cell_type": "code",
   "execution_count": 9,
   "metadata": {
    "collapsed": true
   },
   "outputs": [],
   "source": [
    "simple_file = 'simple_ascii.txt'"
   ]
  },
  {
   "cell_type": "code",
   "execution_count": 10,
   "metadata": {
    "collapsed": true
   },
   "outputs": [],
   "source": [
    "data = np.fromfile(simple_file)"
   ]
  },
  {
   "cell_type": "code",
   "execution_count": 11,
   "metadata": {
    "collapsed": false
   },
   "outputs": [
    {
     "name": "stdout",
     "output_type": "stream",
     "text": [
      "[  7.16120736e-246   1.65781489e-076   3.88219336e-265   1.39736838e-076\n",
      "   2.50488720e-264   3.22444615e-086   5.88363259e-062   2.36330486e-264\n",
      "   1.69340762e-052   7.16120736e-246   1.31398248e-047   3.88221226e-265\n",
      "   3.21492646e-057   2.87752021e-264   3.22445843e-086   1.10791234e-047\n",
      "   2.72201698e-077   4.85110415e-033   1.06658826e-038   9.34575632e-067\n",
      "   3.88209873e-265   7.71621570e-043   3.91068123e-265   3.22444045e-086\n",
      "   2.00579384e-052   9.65047822e-072   9.05972440e-043   3.88209871e-265\n",
      "   1.14217132e-071   2.38132167e-264   2.72038955e-077   5.15439156e-062\n",
      "   2.05417426e-072   1.45002829e-047   3.88219572e-265   4.43567511e-038\n",
      "   3.53480691e-057   2.75291329e-264   2.21501460e-052   7.16120736e-246\n",
      "   1.83086113e-076   3.90765263e-265   3.22446499e-086   5.87985659e-062\n",
      "   3.28388757e-033   2.31657266e-052   3.88209867e-265]\n"
     ]
    }
   ],
   "source": [
    "print(data)"
   ]
  },
  {
   "cell_type": "code",
   "execution_count": 12,
   "metadata": {
    "collapsed": true
   },
   "outputs": [],
   "source": [
    "np.fromfile?"
   ]
  },
  {
   "cell_type": "code",
   "execution_count": 23,
   "metadata": {
    "collapsed": false
   },
   "outputs": [],
   "source": [
    "np.loadtxt?"
   ]
  },
  {
   "cell_type": "code",
   "execution_count": null,
   "metadata": {
    "collapsed": true
   },
   "outputs": [],
   "source": []
  }
 ],
 "metadata": {
  "kernelspec": {
   "display_name": "Python 3",
   "language": "python",
   "name": "python3"
  },
  "language_info": {
   "codemirror_mode": {
    "name": "ipython",
    "version": 3
   },
   "file_extension": ".py",
   "mimetype": "text/x-python",
   "name": "python",
   "nbconvert_exporter": "python",
   "pygments_lexer": "ipython3",
   "version": "3.4.3"
  }
 },
 "nbformat": 4,
 "nbformat_minor": 0
}
