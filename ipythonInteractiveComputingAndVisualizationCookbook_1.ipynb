{
 "cells": [
  {
   "cell_type": "code",
   "execution_count": 1,
   "metadata": {
    "collapsed": false
   },
   "outputs": [
    {
     "name": "stdout",
     "output_type": "stream",
     "text": [
      "Individual Histogram Segmentation Work (October 2015) - working on thresholding max intensities - Sample1.ipynb\r\n",
      "Individual Histogram Segmentation Work (October 2015) - working on thresholding max intensities - Sample2.ipynb\r\n",
      "Individual Histogram Segmentation Work (October 2015) - working on thresholding max intensities - Sample3.ipynb\r\n",
      "Individual Histogram Segmentation Work (October 2015).ipynb\r\n",
      "Individual Histogram Segmentation Work with fitting (October 2015).ipynb\r\n",
      "Loading images (working with tiff without PIL).ipynb\r\n",
      "Loading images (working with tiff).ipynb\r\n",
      "Loading images.ipynb\r\n",
      "Magic Commands.ipynb\r\n",
      "Test combo boxes.ipynb\r\n",
      "Trying FileDialog.ipynb\r\n",
      "Trying FolderDialog.ipynb\r\n",
      "Untitled.ipynb\r\n",
      "intProgress.ipynb\r\n",
      "ipythonInteractiveComputingAndVisualizationCookbook_1.ipynb\r\n"
     ]
    }
   ],
   "source": [
    "ls"
   ]
  },
  {
   "cell_type": "code",
   "execution_count": 3,
   "metadata": {
    "collapsed": false
   },
   "outputs": [
    {
     "name": "stdout",
     "output_type": "stream",
     "text": [
      "Loading images (working with tiff without PIL).ipynb  Loading images.ipynb\r\n",
      "Loading images (working with tiff).ipynb\r\n"
     ]
    }
   ],
   "source": [
    "ls Loading*"
   ]
  },
  {
   "cell_type": "code",
   "execution_count": 4,
   "metadata": {
    "collapsed": false
   },
   "outputs": [
    {
     "name": "stdout",
     "output_type": "stream",
     "text": [
      "Loading images (working with tiff without PIL).ipynb Loading images.ipynb\r\n",
      "Loading images (working with tiff).ipynb\r\n"
     ]
    }
   ],
   "source": [
    "!ls Loading*"
   ]
  },
  {
   "cell_type": "code",
   "execution_count": 5,
   "metadata": {
    "collapsed": false
   },
   "outputs": [
    {
     "name": "stdout",
     "output_type": "stream",
     "text": [
      "total 7120\r\n",
      "-rw-r--r--  1 1376125886  1551083765   215011 Oct 19 20:39 Individual Histogram Segmentation Work (October 2015) - working on thresholding max intensities - Sample1.ipynb\r\n",
      "-rw-r--r--  1 1376125886  1551083765   210508 Oct 19 20:39 Individual Histogram Segmentation Work (October 2015) - working on thresholding max intensities - Sample2.ipynb\r\n",
      "-rw-r--r--  1 1376125886  1551083765   211146 Oct 19 20:39 Individual Histogram Segmentation Work (October 2015) - working on thresholding max intensities - Sample3.ipynb\r\n",
      "-rw-r--r--  1 1376125886  1551083765  1982603 Oct 19 20:39 Individual Histogram Segmentation Work (October 2015).ipynb\r\n",
      "-rw-r--r--  1 1376125886  1551083765   747752 Oct 19 20:39 Individual Histogram Segmentation Work with fitting (October 2015).ipynb\r\n",
      "-rw-r--r--  1 1376125886  1551083765    45383 Oct 19 20:39 Loading images (working with tiff without PIL).ipynb\r\n",
      "-rw-r--r--  1 1376125886  1551083765    42472 Oct 19 20:39 Loading images (working with tiff).ipynb\r\n",
      "-rw-r--r--  1 1376125886  1551083765   136792 Oct 19 20:39 Loading images.ipynb\r\n",
      "-rw-r--r--  1 1376125886  1551083765     6556 Oct 19 21:36 Magic Commands.ipynb\r\n",
      "-rw-r--r--  1 1376125886  1551083765     1139 Oct 19 20:39 Test combo boxes.ipynb\r\n",
      "-rw-r--r--  1 1376125886  1551083765     1918 Oct 19 21:24 Trying FileDialog.ipynb\r\n",
      "-rw-r--r--  1 1376125886  1551083765     2164 Oct 19 21:25 Trying FolderDialog.ipynb\r\n",
      "-rw-r--r--  1 1376125886  1551083765     1466 Oct 19 20:39 Untitled.ipynb\r\n",
      "-rw-r--r--  1 1376125886  1551083765     1433 Nov  1 17:13 intProgress.ipynb\r\n",
      "-rw-r--r--  1 1376125886  1551083765      581 Nov  1 17:18 ipythonInteractiveComputingAndVisualizationCookbook_1.ipynb\r\n"
     ]
    }
   ],
   "source": [
    "ls -n"
   ]
  },
  {
   "cell_type": "code",
   "execution_count": 6,
   "metadata": {
    "collapsed": false
   },
   "outputs": [
    {
     "ename": "SyntaxError",
     "evalue": "invalid syntax (<ipython-input-6-78cd28c03b67>, line 2)",
     "output_type": "error",
     "traceback": [
      "\u001b[0;36m  File \u001b[0;32m\"<ipython-input-6-78cd28c03b67>\"\u001b[0;36m, line \u001b[0;32m2\u001b[0m\n\u001b[0;31m    %%writefile test_file.txt\u001b[0m\n\u001b[0m    ^\u001b[0m\n\u001b[0;31mSyntaxError\u001b[0m\u001b[0;31m:\u001b[0m invalid syntax\n"
     ]
    }
   ],
   "source": [
    "# a quick way to create a file\n",
    "%%writefile test_file.txt\n",
    "This is the text of the first line\n",
    "And here is the second and last line"
   ]
  },
  {
   "cell_type": "code",
   "execution_count": 11,
   "metadata": {
    "collapsed": false
   },
   "outputs": [
    {
     "name": "stdout",
     "output_type": "stream",
     "text": [
      "Writing test_file.txt\n"
     ]
    }
   ],
   "source": [
    "%%writefile test_file.txt\n",
    "a = 10\n",
    "'This is the second line'\n"
   ]
  },
  {
   "cell_type": "code",
   "execution_count": 12,
   "metadata": {
    "collapsed": false
   },
   "outputs": [
    {
     "name": "stdout",
     "output_type": "stream",
     "text": [
      "a = 10\n",
      "'This is the second line'\n"
     ]
    }
   ],
   "source": [
    "# check the content of the file\n",
    "with open('test_file.txt', 'r') as f:\n",
    "    print(f.read());"
   ]
  },
  {
   "cell_type": "code",
   "execution_count": 19,
   "metadata": {
    "collapsed": false
   },
   "outputs": [
    {
     "name": "stdout",
     "output_type": "stream",
     "text": [
      "Object `%%run` not found.\n"
     ]
    }
   ],
   "source": [
    "%%run?"
   ]
  },
  {
   "cell_type": "code",
   "execution_count": 20,
   "metadata": {
    "collapsed": true
   },
   "outputs": [],
   "source": [
    "%run?"
   ]
  },
  {
   "cell_type": "code",
   "execution_count": null,
   "metadata": {
    "collapsed": true
   },
   "outputs": [],
   "source": []
  }
 ],
 "metadata": {
  "kernelspec": {
   "display_name": "Python 3",
   "language": "python",
   "name": "python3"
  },
  "language_info": {
   "codemirror_mode": {
    "name": "ipython",
    "version": 3
   },
   "file_extension": ".py",
   "mimetype": "text/x-python",
   "name": "python",
   "nbconvert_exporter": "python",
   "pygments_lexer": "ipython3",
   "version": "3.4.3"
  }
 },
 "nbformat": 4,
 "nbformat_minor": 0
}
